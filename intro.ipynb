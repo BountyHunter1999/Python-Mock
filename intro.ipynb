{
 "cells": [
  {
   "cell_type": "markdown",
   "metadata": {},
   "source": [
    "# Why use mock?\n",
    "-  Replacing the actual request with a mock object would allow us to **simulate external service outages and successful responses in a predictable way**\n",
    "- Python mock objects can help us control the execution path of our code to reach certain areas(that aren't easily reached) and improve our code coverage\n",
    "    - like `except` block and `if` statements that are hard to satisfy\n",
    "- Better understand how we're using their real counterparts in our code\n",
    "\n",
    "<hr>\n",
    "\n",
    "## Python Mock Object\n",
    "- it contains data about its usage that we can inspect such as:\n",
    "1. If we called a method\n",
    "2. How we called the method\n",
    "3. How often we called the method"
   ]
  },
  {
   "cell_type": "code",
   "execution_count": 1,
   "metadata": {},
   "outputs": [
    {
     "data": {
      "text/plain": [
       "<Mock id='1880645278016'>"
      ]
     },
     "execution_count": 1,
     "metadata": {},
     "output_type": "execute_result"
    }
   ],
   "source": [
    "from unittest.mock import Mock\n",
    "mock = Mock()\n",
    "mock"
   ]
  },
  {
   "cell_type": "code",
   "execution_count": 2,
   "metadata": {},
   "outputs": [
    {
     "data": {
      "text/plain": [
       "<Mock name='mock.some_attribute' id='1880645278928'>"
      ]
     },
     "execution_count": 2,
     "metadata": {},
     "output_type": "execute_result"
    }
   ],
   "source": [
    "mock.some_attribute"
   ]
  },
  {
   "cell_type": "code",
   "execution_count": 3,
   "metadata": {},
   "outputs": [
    {
     "data": {
      "text/plain": [
       "<Mock name='mock.do_something()' id='1880647139728'>"
      ]
     },
     "execution_count": 3,
     "metadata": {},
     "output_type": "execute_result"
    }
   ],
   "source": [
    "mock.do_something()"
   ]
  },
  {
   "cell_type": "markdown",
   "metadata": {},
   "source": [
    "- Mock can recursively define other mocks"
   ]
  },
  {
   "cell_type": "code",
   "execution_count": 4,
   "metadata": {},
   "outputs": [
    {
     "data": {
      "text/plain": [
       "<Mock name='mock.dumps()' id='1880647140544'>"
      ]
     },
     "execution_count": 4,
     "metadata": {},
     "output_type": "execute_result"
    }
   ],
   "source": [
    "def check_json():\n",
    "    json = Mock()\n",
    "    return json.dumps()\n",
    "\n",
    "check_json()"
   ]
  },
  {
   "cell_type": "code",
   "execution_count": 5,
   "metadata": {},
   "outputs": [
    {
     "data": {
      "text/plain": [
       "<Mock name='mock.loads().get()' id='1880647140112'>"
      ]
     },
     "execution_count": 5,
     "metadata": {},
     "output_type": "execute_result"
    }
   ],
   "source": [
    "def check_json():\n",
    "    json = Mock()\n",
    "    return json.loads('{\"k\": \"v\"}').get(\"k\")\n",
    "\n",
    "check_json()"
   ]
  },
  {
   "cell_type": "markdown",
   "metadata": {},
   "source": [
    "# Assertions and Inspection\n",
    "- Mock instances store data on how we use them\n",
    "- we can see if\n",
    "    1. we called the method\n",
    "    2. how we called the method"
   ]
  },
  {
   "cell_type": "code",
   "execution_count": 7,
   "metadata": {},
   "outputs": [],
   "source": [
    "json = Mock()"
   ]
  },
  {
   "cell_type": "code",
   "execution_count": 8,
   "metadata": {},
   "outputs": [
    {
     "ename": "AssertionError",
     "evalue": "Expected 'loads' to have been called.",
     "output_type": "error",
     "traceback": [
      "\u001b[1;31m---------------------------------------------------------------------------\u001b[0m",
      "\u001b[1;31mAssertionError\u001b[0m                            Traceback (most recent call last)",
      "Cell \u001b[1;32mIn[8], line 1\u001b[0m\n\u001b[1;32m----> 1\u001b[0m json\u001b[39m.\u001b[39;49mloads\u001b[39m.\u001b[39;49massert_called()\n",
      "File \u001b[1;32m~\\anaconda3\\lib\\unittest\\mock.py:876\u001b[0m, in \u001b[0;36mNonCallableMock.assert_called\u001b[1;34m(self)\u001b[0m\n\u001b[0;32m    873\u001b[0m \u001b[39mif\u001b[39;00m \u001b[39mself\u001b[39m\u001b[39m.\u001b[39mcall_count \u001b[39m==\u001b[39m \u001b[39m0\u001b[39m:\n\u001b[0;32m    874\u001b[0m     msg \u001b[39m=\u001b[39m (\u001b[39m\"\u001b[39m\u001b[39mExpected \u001b[39m\u001b[39m'\u001b[39m\u001b[39m%s\u001b[39;00m\u001b[39m'\u001b[39m\u001b[39m to have been called.\u001b[39m\u001b[39m\"\u001b[39m \u001b[39m%\u001b[39m\n\u001b[0;32m    875\u001b[0m            (\u001b[39mself\u001b[39m\u001b[39m.\u001b[39m_mock_name \u001b[39mor\u001b[39;00m \u001b[39m'\u001b[39m\u001b[39mmock\u001b[39m\u001b[39m'\u001b[39m))\n\u001b[1;32m--> 876\u001b[0m     \u001b[39mraise\u001b[39;00m \u001b[39mAssertionError\u001b[39;00m(msg)\n",
      "\u001b[1;31mAssertionError\u001b[0m: Expected 'loads' to have been called."
     ]
    }
   ],
   "source": [
    "json.loads.assert_called()"
   ]
  },
  {
   "cell_type": "code",
   "execution_count": 9,
   "metadata": {},
   "outputs": [
    {
     "data": {
      "text/plain": [
       "<Mock name='mock.loads()' id='1880672984368'>"
      ]
     },
     "execution_count": 9,
     "metadata": {},
     "output_type": "execute_result"
    }
   ],
   "source": [
    "json.loads('{\"key\": \"value\"}')"
   ]
  },
  {
   "cell_type": "code",
   "execution_count": 10,
   "metadata": {},
   "outputs": [],
   "source": [
    "json.loads.assert_called()"
   ]
  },
  {
   "cell_type": "code",
   "execution_count": 11,
   "metadata": {},
   "outputs": [],
   "source": [
    "json.loads.assert_called_once()"
   ]
  },
  {
   "cell_type": "code",
   "execution_count": 12,
   "metadata": {},
   "outputs": [],
   "source": [
    "json.loads.assert_called_with('{\"key\": \"value\"}')"
   ]
  },
  {
   "cell_type": "code",
   "execution_count": 13,
   "metadata": {},
   "outputs": [],
   "source": [
    "json.loads.assert_called_once_with('{\"key\": \"value\"}')"
   ]
  },
  {
   "cell_type": "code",
   "execution_count": 17,
   "metadata": {},
   "outputs": [
    {
     "ename": "AssertionError",
     "evalue": "Expected 'loads' to not have been called. Called 1 times.\nCalls: [call('{\"key\": \"value\"}')].",
     "output_type": "error",
     "traceback": [
      "\u001b[1;31m---------------------------------------------------------------------------\u001b[0m",
      "\u001b[1;31mAssertionError\u001b[0m                            Traceback (most recent call last)",
      "Cell \u001b[1;32mIn[17], line 1\u001b[0m\n\u001b[1;32m----> 1\u001b[0m json\u001b[39m.\u001b[39;49mloads\u001b[39m.\u001b[39;49massert_not_called()\n",
      "File \u001b[1;32m~\\anaconda3\\lib\\unittest\\mock.py:868\u001b[0m, in \u001b[0;36mNonCallableMock.assert_not_called\u001b[1;34m(self)\u001b[0m\n\u001b[0;32m    863\u001b[0m \u001b[39mif\u001b[39;00m \u001b[39mself\u001b[39m\u001b[39m.\u001b[39mcall_count \u001b[39m!=\u001b[39m \u001b[39m0\u001b[39m:\n\u001b[0;32m    864\u001b[0m     msg \u001b[39m=\u001b[39m (\u001b[39m\"\u001b[39m\u001b[39mExpected \u001b[39m\u001b[39m'\u001b[39m\u001b[39m%s\u001b[39;00m\u001b[39m'\u001b[39m\u001b[39m to not have been called. Called \u001b[39m\u001b[39m%s\u001b[39;00m\u001b[39m times.\u001b[39m\u001b[39m%s\u001b[39;00m\u001b[39m\"\u001b[39m\n\u001b[0;32m    865\u001b[0m            \u001b[39m%\u001b[39m (\u001b[39mself\u001b[39m\u001b[39m.\u001b[39m_mock_name \u001b[39mor\u001b[39;00m \u001b[39m'\u001b[39m\u001b[39mmock\u001b[39m\u001b[39m'\u001b[39m,\n\u001b[0;32m    866\u001b[0m               \u001b[39mself\u001b[39m\u001b[39m.\u001b[39mcall_count,\n\u001b[0;32m    867\u001b[0m               \u001b[39mself\u001b[39m\u001b[39m.\u001b[39m_calls_repr()))\n\u001b[1;32m--> 868\u001b[0m     \u001b[39mraise\u001b[39;00m \u001b[39mAssertionError\u001b[39;00m(msg)\n",
      "\u001b[1;31mAssertionError\u001b[0m: Expected 'loads' to not have been called. Called 1 times.\nCalls: [call('{\"key\": \"value\"}')]."
     ]
    }
   ],
   "source": [
    "json.loads.assert_not_called()"
   ]
  },
  {
   "cell_type": "markdown",
   "metadata": {},
   "source": [
    "- call with the same arguments to pass the assertions"
   ]
  },
  {
   "cell_type": "code",
   "execution_count": 18,
   "metadata": {},
   "outputs": [],
   "source": [
    "json = Mock()"
   ]
  },
  {
   "cell_type": "code",
   "execution_count": 19,
   "metadata": {},
   "outputs": [
    {
     "data": {
      "text/plain": [
       "<Mock name='mock.loads()' id='1880672982640'>"
      ]
     },
     "execution_count": 19,
     "metadata": {},
     "output_type": "execute_result"
    }
   ],
   "source": [
    "json.loads(s='{\"key\": \"value\"}')"
   ]
  },
  {
   "cell_type": "code",
   "execution_count": 20,
   "metadata": {},
   "outputs": [
    {
     "ename": "AssertionError",
     "evalue": "expected call not found.\nExpected: loads('{\"key\": \"value\"}')\nActual: loads(s='{\"key\": \"value\"}')",
     "output_type": "error",
     "traceback": [
      "\u001b[1;31m---------------------------------------------------------------------------\u001b[0m",
      "\u001b[1;31mAssertionError\u001b[0m                            Traceback (most recent call last)",
      "Cell \u001b[1;32mIn[20], line 1\u001b[0m\n\u001b[1;32m----> 1\u001b[0m json\u001b[39m.\u001b[39;49mloads\u001b[39m.\u001b[39;49massert_called_with(\u001b[39m'\u001b[39;49m\u001b[39m{\u001b[39;49m\u001b[39m\"\u001b[39;49m\u001b[39mkey\u001b[39;49m\u001b[39m\"\u001b[39;49m\u001b[39m: \u001b[39;49m\u001b[39m\"\u001b[39;49m\u001b[39mvalue\u001b[39;49m\u001b[39m\"\u001b[39;49m\u001b[39m}\u001b[39;49m\u001b[39m'\u001b[39;49m)\n",
      "File \u001b[1;32m~\\anaconda3\\lib\\unittest\\mock.py:907\u001b[0m, in \u001b[0;36mNonCallableMock.assert_called_with\u001b[1;34m(self, *args, **kwargs)\u001b[0m\n\u001b[0;32m    905\u001b[0m \u001b[39mif\u001b[39;00m actual \u001b[39m!=\u001b[39m expected:\n\u001b[0;32m    906\u001b[0m     cause \u001b[39m=\u001b[39m expected \u001b[39mif\u001b[39;00m \u001b[39misinstance\u001b[39m(expected, \u001b[39mException\u001b[39;00m) \u001b[39melse\u001b[39;00m \u001b[39mNone\u001b[39;00m\n\u001b[1;32m--> 907\u001b[0m     \u001b[39mraise\u001b[39;00m \u001b[39mAssertionError\u001b[39;00m(_error_message()) \u001b[39mfrom\u001b[39;00m \u001b[39mcause\u001b[39;00m\n",
      "\u001b[1;31mAssertionError\u001b[0m: expected call not found.\nExpected: loads('{\"key\": \"value\"}')\nActual: loads(s='{\"key\": \"value\"}')"
     ]
    }
   ],
   "source": [
    "json.loads.assert_called_with('{\"key\": \"value\"}')"
   ]
  },
  {
   "cell_type": "code",
   "execution_count": 21,
   "metadata": {},
   "outputs": [],
   "source": [
    "json.loads.assert_called_with(s='{\"key\": \"value\"}')"
   ]
  },
  {
   "cell_type": "markdown",
   "metadata": {},
   "source": [
    "# Special Attributes"
   ]
  },
  {
   "cell_type": "code",
   "execution_count": 22,
   "metadata": {},
   "outputs": [
    {
     "data": {
      "text/plain": [
       "1"
      ]
     },
     "execution_count": 22,
     "metadata": {},
     "output_type": "execute_result"
    }
   ],
   "source": [
    "json.loads.call_count"
   ]
  },
  {
   "cell_type": "code",
   "execution_count": 23,
   "metadata": {},
   "outputs": [
    {
     "data": {
      "text/plain": [
       "call(s='{\"key\": \"value\"}')"
      ]
     },
     "execution_count": 23,
     "metadata": {},
     "output_type": "execute_result"
    }
   ],
   "source": [
    "json.loads.call_args"
   ]
  },
  {
   "cell_type": "code",
   "execution_count": 24,
   "metadata": {},
   "outputs": [
    {
     "data": {
      "text/plain": [
       "[call(s='{\"key\": \"value\"}')]"
      ]
     },
     "execution_count": 24,
     "metadata": {},
     "output_type": "execute_result"
    }
   ],
   "source": [
    "json.loads.call_args_list"
   ]
  },
  {
   "cell_type": "code",
   "execution_count": 25,
   "metadata": {},
   "outputs": [
    {
     "data": {
      "text/plain": [
       "[call.loads(s='{\"key\": \"value\"}')]"
      ]
     },
     "execution_count": 25,
     "metadata": {},
     "output_type": "execute_result"
    }
   ],
   "source": [
    "json.method_calls"
   ]
  },
  {
   "cell_type": "markdown",
   "metadata": {},
   "source": [
    "# Managing Mock's Return Value"
   ]
  },
  {
   "cell_type": "code",
   "execution_count": 26,
   "metadata": {},
   "outputs": [
    {
     "ename": "AssertionError",
     "evalue": "",
     "output_type": "error",
     "traceback": [
      "\u001b[1;31m---------------------------------------------------------------------------\u001b[0m",
      "\u001b[1;31mAssertionError\u001b[0m                            Traceback (most recent call last)",
      "Cell \u001b[1;32mIn[26], line 8\u001b[0m\n\u001b[0;32m      5\u001b[0m     \u001b[39m# datetime treats Monday as 0 and Sunday as 6\u001b[39;00m\n\u001b[0;32m      6\u001b[0m     \u001b[39mreturn\u001b[39;00m (\u001b[39m0\u001b[39m \u001b[39m<\u001b[39m\u001b[39m=\u001b[39m today\u001b[39m.\u001b[39mweekday() \u001b[39m<\u001b[39m \u001b[39m5\u001b[39m)\n\u001b[1;32m----> 8\u001b[0m \u001b[39massert\u001b[39;00m is_weekday()\n",
      "\u001b[1;31mAssertionError\u001b[0m: "
     ]
    }
   ],
   "source": [
    "from datetime import datetime\n",
    "\n",
    "def is_weekday():\n",
    "    today = datetime.today()\n",
    "    # datetime treats Monday as 0 and Sunday as 6\n",
    "    return (0 <= today.weekday() < 5)\n",
    "\n",
    "assert is_weekday()"
   ]
  },
  {
   "cell_type": "code",
   "execution_count": 29,
   "metadata": {},
   "outputs": [],
   "source": [
    "tuesday = datetime(year=2019, month=1, day=1)\n",
    "saturday = datetime(year=2019, month=1, day=5)\n",
    "\n",
    "# Mock datetime to control today's date\n",
    "datetime = Mock()"
   ]
  },
  {
   "cell_type": "code",
   "execution_count": 30,
   "metadata": {},
   "outputs": [],
   "source": [
    "datetime.today.return_value = tuesday\n",
    "# Test Tuesday is a week day\n",
    "assert is_weekday()"
   ]
  },
  {
   "cell_type": "code",
   "execution_count": 32,
   "metadata": {},
   "outputs": [],
   "source": [
    "datetime.today.return_value = saturday\n",
    "# Test saturday is a week day\n",
    "assert not is_weekday()"
   ]
  },
  {
   "cell_type": "markdown",
   "metadata": {},
   "source": [
    "- look into [freezegun](https://github.com/spulec/freezegun) for datetime mock"
   ]
  },
  {
   "cell_type": "markdown",
   "metadata": {},
   "source": [
    "## Side Effect\n",
    "- what happens when we call the mocked function"
   ]
  },
  {
   "cell_type": "code",
   "execution_count": 34,
   "metadata": {},
   "outputs": [],
   "source": [
    "# ! pip install requests"
   ]
  },
  {
   "cell_type": "code",
   "execution_count": 36,
   "metadata": {},
   "outputs": [],
   "source": [
    "import requests\n",
    "\n",
    "def get_holidays():\n",
    "    r = requests.get(\"http://localhost/api/holidays\")\n",
    "    if r.status_code == 200:\n",
    "        return r.json()\n",
    "    return"
   ]
  },
  {
   "cell_type": "code",
   "execution_count": 37,
   "metadata": {},
   "outputs": [],
   "source": [
    "from requests.exceptions import Timeout"
   ]
  },
  {
   "cell_type": "code",
   "execution_count": 38,
   "metadata": {},
   "outputs": [],
   "source": [
    "# Mock requests to control its behaviour\n",
    "requests = Mock()"
   ]
  }
 ],
 "metadata": {
  "kernelspec": {
   "display_name": "venv",
   "language": "python",
   "name": "python3"
  },
  "language_info": {
   "codemirror_mode": {
    "name": "ipython",
    "version": 3
   },
   "file_extension": ".py",
   "mimetype": "text/x-python",
   "name": "python",
   "nbconvert_exporter": "python",
   "pygments_lexer": "ipython3",
   "version": "3.9.12"
  },
  "orig_nbformat": 4
 },
 "nbformat": 4,
 "nbformat_minor": 2
}
